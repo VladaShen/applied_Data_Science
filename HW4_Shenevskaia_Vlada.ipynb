{
  "cells": [
    {
      "cell_type": "markdown",
      "metadata": {
        "id": "ExuV3ktSQYrH"
      },
      "source": [
        "<center><img src=\"https://github.com/hse-ds/iad-applied-ds/blob/master/2021/hw/hw1/img/logo_hse.png?raw=1\" width=\"1000\"></center>\n",
        "\n",
        "<h1><center>Прикладные задачи анализа данных</center></h1>\n",
        "<h2><center>Домашнее задание 4: рекомендательные системы</center></h2>\n",
        "<h3><center>Выполнила Шеневская Влада</center></h3>"
      ]
    },
    {
      "cell_type": "markdown",
      "metadata": {
        "id": "ef6180WvQbD-"
      },
      "source": [
        "# Введение\n",
        "\n",
        "В этом задании Вы продолжите работать с данными из семинара [Articles Sharing and Reading from CI&T Deskdrop](https://www.kaggle.com/gspmoreira/articles-sharing-reading-from-cit-deskdrop)."
      ]
    },
    {
      "cell_type": "markdown",
      "metadata": {
        "id": "nSV_mxD9TciM"
      },
      "source": [
        "# Загрузка и предобработка данных"
      ]
    },
    {
      "cell_type": "code",
      "execution_count": 1,
      "metadata": {
        "id": "M5mH3ZolSlcm"
      },
      "outputs": [],
      "source": [
        "import pandas as pd\n",
        "import numpy as np\n",
        "import math"
      ]
    },
    {
      "cell_type": "markdown",
      "metadata": {
        "id": "PRQVuRvER0hd"
      },
      "source": [
        "Загрузим данные и проведем предобраотку данных как на семинаре."
      ]
    },
    {
      "cell_type": "code",
      "execution_count": 2,
      "metadata": {
        "id": "8E837g9kQTbb",
        "colab": {
          "base_uri": "https://localhost:8080/"
        },
        "outputId": "20286373-e1f6-44c7-ec85-c504626d4bfa"
      },
      "outputs": [
        {
          "output_type": "stream",
          "name": "stdout",
          "text": [
            "Traceback (most recent call last):\n",
            "  File \"/usr/local/bin/kaggle\", line 5, in <module>\n",
            "    from kaggle.cli import main\n",
            "  File \"/usr/local/lib/python3.7/dist-packages/kaggle/__init__.py\", line 23, in <module>\n",
            "    api.authenticate()\n",
            "  File \"/usr/local/lib/python3.7/dist-packages/kaggle/api/kaggle_api_extended.py\", line 166, in authenticate\n",
            "    self.config_file, self.config_dir))\n",
            "OSError: Could not find kaggle.json. Make sure it's located in /root/.kaggle. Or use the environment method.\n",
            "unzip:  cannot find or open articles-sharing-reading-from-cit-deskdrop.zip, articles-sharing-reading-from-cit-deskdrop.zip.zip or articles-sharing-reading-from-cit-deskdrop.zip.ZIP.\n"
          ]
        }
      ],
      "source": [
        "!kaggle datasets download -d gspmoreira/articles-sharing-reading-from-cit-deskdrop\n",
        "!unzip articles-sharing-reading-from-cit-deskdrop.zip -d articles"
      ]
    },
    {
      "cell_type": "code",
      "source": [
        "from google.colab import drive\n",
        "drive.mount('/content/drive') "
      ],
      "metadata": {
        "colab": {
          "base_uri": "https://localhost:8080/"
        },
        "id": "D1o1EBbTr33g",
        "outputId": "405c5d5a-1417-492b-e29e-a30bfdc10387"
      },
      "execution_count": 2,
      "outputs": [
        {
          "output_type": "stream",
          "name": "stdout",
          "text": [
            "Mounted at /content/drive\n"
          ]
        }
      ]
    },
    {
      "cell_type": "code",
      "source": [
        "! unzip \"/content/drive/MyDrive/Colab Notebooks/shared_articles.csv.zip\""
      ],
      "metadata": {
        "colab": {
          "base_uri": "https://localhost:8080/"
        },
        "id": "6YRGB6rdsLnP",
        "outputId": "dadc37c5-9fc0-443d-b994-d22fc7030ed3"
      },
      "execution_count": 4,
      "outputs": [
        {
          "output_type": "stream",
          "name": "stdout",
          "text": [
            "Archive:  /content/drive/MyDrive/Colab Notebooks/shared_articles.csv.zip\n",
            "  inflating: shared_articles.csv     \n"
          ]
        }
      ]
    },
    {
      "cell_type": "code",
      "execution_count": 68,
      "metadata": {
        "colab": {
          "base_uri": "https://localhost:8080/",
          "height": 436
        },
        "id": "hdM1xSchR9jt",
        "outputId": "a560d514-d05f-41dd-9fb9-a3ae48242643"
      },
      "outputs": [
        {
          "output_type": "execute_result",
          "data": {
            "text/plain": [
              "    timestamp       eventType            contentId       authorPersonId  \\\n",
              "1  1459193988  CONTENT SHARED -4110354420726924665  4340306774493623681   \n",
              "2  1459194146  CONTENT SHARED -7292285110016212249  4340306774493623681   \n",
              "\n",
              "       authorSessionId authorUserAgent authorRegion authorCountry contentType  \\\n",
              "1  8940341205206233829             NaN          NaN           NaN        HTML   \n",
              "2  8940341205206233829             NaN          NaN           NaN        HTML   \n",
              "\n",
              "                                                 url  \\\n",
              "1  http://www.nytimes.com/2016/03/28/business/dea...   \n",
              "2  http://cointelegraph.com/news/bitcoin-future-w...   \n",
              "\n",
              "                                               title  \\\n",
              "1  Ethereum, a Virtual Currency, Enables Transact...   \n",
              "2  Bitcoin Future: When GBPcoin of Branson Wins O...   \n",
              "\n",
              "                                                text lang  \n",
              "1  All of this work is still very early. The firs...   en  \n",
              "2  The alarm clock wakes me at 8:00 with stream o...   en  "
            ],
            "text/html": [
              "\n",
              "  <div id=\"df-96320222-9fe6-422e-98e0-777276563ab9\">\n",
              "    <div class=\"colab-df-container\">\n",
              "      <div>\n",
              "<style scoped>\n",
              "    .dataframe tbody tr th:only-of-type {\n",
              "        vertical-align: middle;\n",
              "    }\n",
              "\n",
              "    .dataframe tbody tr th {\n",
              "        vertical-align: top;\n",
              "    }\n",
              "\n",
              "    .dataframe thead th {\n",
              "        text-align: right;\n",
              "    }\n",
              "</style>\n",
              "<table border=\"1\" class=\"dataframe\">\n",
              "  <thead>\n",
              "    <tr style=\"text-align: right;\">\n",
              "      <th></th>\n",
              "      <th>timestamp</th>\n",
              "      <th>eventType</th>\n",
              "      <th>contentId</th>\n",
              "      <th>authorPersonId</th>\n",
              "      <th>authorSessionId</th>\n",
              "      <th>authorUserAgent</th>\n",
              "      <th>authorRegion</th>\n",
              "      <th>authorCountry</th>\n",
              "      <th>contentType</th>\n",
              "      <th>url</th>\n",
              "      <th>title</th>\n",
              "      <th>text</th>\n",
              "      <th>lang</th>\n",
              "    </tr>\n",
              "  </thead>\n",
              "  <tbody>\n",
              "    <tr>\n",
              "      <th>1</th>\n",
              "      <td>1459193988</td>\n",
              "      <td>CONTENT SHARED</td>\n",
              "      <td>-4110354420726924665</td>\n",
              "      <td>4340306774493623681</td>\n",
              "      <td>8940341205206233829</td>\n",
              "      <td>NaN</td>\n",
              "      <td>NaN</td>\n",
              "      <td>NaN</td>\n",
              "      <td>HTML</td>\n",
              "      <td>http://www.nytimes.com/2016/03/28/business/dea...</td>\n",
              "      <td>Ethereum, a Virtual Currency, Enables Transact...</td>\n",
              "      <td>All of this work is still very early. The firs...</td>\n",
              "      <td>en</td>\n",
              "    </tr>\n",
              "    <tr>\n",
              "      <th>2</th>\n",
              "      <td>1459194146</td>\n",
              "      <td>CONTENT SHARED</td>\n",
              "      <td>-7292285110016212249</td>\n",
              "      <td>4340306774493623681</td>\n",
              "      <td>8940341205206233829</td>\n",
              "      <td>NaN</td>\n",
              "      <td>NaN</td>\n",
              "      <td>NaN</td>\n",
              "      <td>HTML</td>\n",
              "      <td>http://cointelegraph.com/news/bitcoin-future-w...</td>\n",
              "      <td>Bitcoin Future: When GBPcoin of Branson Wins O...</td>\n",
              "      <td>The alarm clock wakes me at 8:00 with stream o...</td>\n",
              "      <td>en</td>\n",
              "    </tr>\n",
              "  </tbody>\n",
              "</table>\n",
              "</div>\n",
              "      <button class=\"colab-df-convert\" onclick=\"convertToInteractive('df-96320222-9fe6-422e-98e0-777276563ab9')\"\n",
              "              title=\"Convert this dataframe to an interactive table.\"\n",
              "              style=\"display:none;\">\n",
              "        \n",
              "  <svg xmlns=\"http://www.w3.org/2000/svg\" height=\"24px\"viewBox=\"0 0 24 24\"\n",
              "       width=\"24px\">\n",
              "    <path d=\"M0 0h24v24H0V0z\" fill=\"none\"/>\n",
              "    <path d=\"M18.56 5.44l.94 2.06.94-2.06 2.06-.94-2.06-.94-.94-2.06-.94 2.06-2.06.94zm-11 1L8.5 8.5l.94-2.06 2.06-.94-2.06-.94L8.5 2.5l-.94 2.06-2.06.94zm10 10l.94 2.06.94-2.06 2.06-.94-2.06-.94-.94-2.06-.94 2.06-2.06.94z\"/><path d=\"M17.41 7.96l-1.37-1.37c-.4-.4-.92-.59-1.43-.59-.52 0-1.04.2-1.43.59L10.3 9.45l-7.72 7.72c-.78.78-.78 2.05 0 2.83L4 21.41c.39.39.9.59 1.41.59.51 0 1.02-.2 1.41-.59l7.78-7.78 2.81-2.81c.8-.78.8-2.07 0-2.86zM5.41 20L4 18.59l7.72-7.72 1.47 1.35L5.41 20z\"/>\n",
              "  </svg>\n",
              "      </button>\n",
              "      \n",
              "  <style>\n",
              "    .colab-df-container {\n",
              "      display:flex;\n",
              "      flex-wrap:wrap;\n",
              "      gap: 12px;\n",
              "    }\n",
              "\n",
              "    .colab-df-convert {\n",
              "      background-color: #E8F0FE;\n",
              "      border: none;\n",
              "      border-radius: 50%;\n",
              "      cursor: pointer;\n",
              "      display: none;\n",
              "      fill: #1967D2;\n",
              "      height: 32px;\n",
              "      padding: 0 0 0 0;\n",
              "      width: 32px;\n",
              "    }\n",
              "\n",
              "    .colab-df-convert:hover {\n",
              "      background-color: #E2EBFA;\n",
              "      box-shadow: 0px 1px 2px rgba(60, 64, 67, 0.3), 0px 1px 3px 1px rgba(60, 64, 67, 0.15);\n",
              "      fill: #174EA6;\n",
              "    }\n",
              "\n",
              "    [theme=dark] .colab-df-convert {\n",
              "      background-color: #3B4455;\n",
              "      fill: #D2E3FC;\n",
              "    }\n",
              "\n",
              "    [theme=dark] .colab-df-convert:hover {\n",
              "      background-color: #434B5C;\n",
              "      box-shadow: 0px 1px 3px 1px rgba(0, 0, 0, 0.15);\n",
              "      filter: drop-shadow(0px 1px 2px rgba(0, 0, 0, 0.3));\n",
              "      fill: #FFFFFF;\n",
              "    }\n",
              "  </style>\n",
              "\n",
              "      <script>\n",
              "        const buttonEl =\n",
              "          document.querySelector('#df-96320222-9fe6-422e-98e0-777276563ab9 button.colab-df-convert');\n",
              "        buttonEl.style.display =\n",
              "          google.colab.kernel.accessAllowed ? 'block' : 'none';\n",
              "\n",
              "        async function convertToInteractive(key) {\n",
              "          const element = document.querySelector('#df-96320222-9fe6-422e-98e0-777276563ab9');\n",
              "          const dataTable =\n",
              "            await google.colab.kernel.invokeFunction('convertToInteractive',\n",
              "                                                     [key], {});\n",
              "          if (!dataTable) return;\n",
              "\n",
              "          const docLinkHtml = 'Like what you see? Visit the ' +\n",
              "            '<a target=\"_blank\" href=https://colab.research.google.com/notebooks/data_table.ipynb>data table notebook</a>'\n",
              "            + ' to learn more about interactive tables.';\n",
              "          element.innerHTML = '';\n",
              "          dataTable['output_type'] = 'display_data';\n",
              "          await google.colab.output.renderOutput(dataTable, element);\n",
              "          const docLink = document.createElement('div');\n",
              "          docLink.innerHTML = docLinkHtml;\n",
              "          element.appendChild(docLink);\n",
              "        }\n",
              "      </script>\n",
              "    </div>\n",
              "  </div>\n",
              "  "
            ]
          },
          "metadata": {},
          "execution_count": 68
        }
      ],
      "source": [
        "articles_df = pd.read_csv(\"shared_articles.csv\")\n",
        "articles_df = articles_df[articles_df[\"eventType\"] == \"CONTENT SHARED\"] # оставляем только существующие статьи, уже удаленные убираем тк не можем по ним строить рекомендации\n",
        "articles_df.head(2)"
      ]
    },
    {
      "cell_type": "code",
      "source": [
        "articles_df.isna().sum() # есть пропуски"
      ],
      "metadata": {
        "colab": {
          "base_uri": "https://localhost:8080/"
        },
        "id": "g9Qc_CxrLSIQ",
        "outputId": "5ad04e96-7964-4157-cc32-3211fb06241f"
      },
      "execution_count": 69,
      "outputs": [
        {
          "output_type": "execute_result",
          "data": {
            "text/plain": [
              "timestamp             0\n",
              "eventType             0\n",
              "contentId             0\n",
              "authorPersonId        0\n",
              "authorSessionId       0\n",
              "authorUserAgent    2378\n",
              "authorRegion       2378\n",
              "authorCountry      2378\n",
              "contentType           0\n",
              "url                   0\n",
              "title                 0\n",
              "text                  0\n",
              "lang                  0\n",
              "dtype: int64"
            ]
          },
          "metadata": {},
          "execution_count": 69
        }
      ]
    },
    {
      "cell_type": "code",
      "source": [
        "articles_df.replace({np.nan:0}, inplace=True) # убирем все NAN значения"
      ],
      "metadata": {
        "id": "IwpzSxsJLoX1"
      },
      "execution_count": 70,
      "outputs": []
    },
    {
      "cell_type": "code",
      "source": [
        "articles_df.isna().sum()"
      ],
      "metadata": {
        "colab": {
          "base_uri": "https://localhost:8080/"
        },
        "id": "0mY49hifLyoz",
        "outputId": "13d17158-c50c-432a-fb88-9c39d86c37ee"
      },
      "execution_count": 71,
      "outputs": [
        {
          "output_type": "execute_result",
          "data": {
            "text/plain": [
              "timestamp          0\n",
              "eventType          0\n",
              "contentId          0\n",
              "authorPersonId     0\n",
              "authorSessionId    0\n",
              "authorUserAgent    0\n",
              "authorRegion       0\n",
              "authorCountry      0\n",
              "contentType        0\n",
              "url                0\n",
              "title              0\n",
              "text               0\n",
              "lang               0\n",
              "dtype: int64"
            ]
          },
          "metadata": {},
          "execution_count": 71
        }
      ]
    },
    {
      "cell_type": "code",
      "source": [
        "! unzip \"/content/drive/MyDrive/Colab Notebooks/users_interactions.csv.zip\""
      ],
      "metadata": {
        "colab": {
          "base_uri": "https://localhost:8080/"
        },
        "id": "tLqh5aBGs0hn",
        "outputId": "f1db012e-08df-4650-9df5-42f2c3692b6c"
      },
      "execution_count": 72,
      "outputs": [
        {
          "output_type": "stream",
          "name": "stdout",
          "text": [
            "Archive:  /content/drive/MyDrive/Colab Notebooks/users_interactions.csv.zip\n",
            "replace users_interactions.csv? [y]es, [n]o, [A]ll, [N]one, [r]ename: "
          ]
        }
      ]
    },
    {
      "cell_type": "code",
      "execution_count": 73,
      "metadata": {
        "id": "KK9wMAkvSjbk",
        "colab": {
          "base_uri": "https://localhost:8080/",
          "height": 173
        },
        "outputId": "3ff58f94-4878-41ae-e067-842e29f1eb29"
      },
      "outputs": [
        {
          "output_type": "execute_result",
          "data": {
            "text/plain": [
              "    timestamp eventType            contentId             personId  \\\n",
              "0  1465413032      VIEW -3499919498720038879 -8845298781299428018   \n",
              "1  1465412560      VIEW  8890720798209849691 -1032019229384696495   \n",
              "\n",
              "             sessionId                                          userAgent  \\\n",
              "0  1264196770339959068                                                NaN   \n",
              "1  3621737643587579081  Mozilla/5.0 (Macintosh; Intel Mac OS X 10_11_2...   \n",
              "\n",
              "  userRegion userCountry  \n",
              "0        NaN         NaN  \n",
              "1         NY          US  "
            ],
            "text/html": [
              "\n",
              "  <div id=\"df-b1ec474c-1438-4395-9e9b-e513795766fb\">\n",
              "    <div class=\"colab-df-container\">\n",
              "      <div>\n",
              "<style scoped>\n",
              "    .dataframe tbody tr th:only-of-type {\n",
              "        vertical-align: middle;\n",
              "    }\n",
              "\n",
              "    .dataframe tbody tr th {\n",
              "        vertical-align: top;\n",
              "    }\n",
              "\n",
              "    .dataframe thead th {\n",
              "        text-align: right;\n",
              "    }\n",
              "</style>\n",
              "<table border=\"1\" class=\"dataframe\">\n",
              "  <thead>\n",
              "    <tr style=\"text-align: right;\">\n",
              "      <th></th>\n",
              "      <th>timestamp</th>\n",
              "      <th>eventType</th>\n",
              "      <th>contentId</th>\n",
              "      <th>personId</th>\n",
              "      <th>sessionId</th>\n",
              "      <th>userAgent</th>\n",
              "      <th>userRegion</th>\n",
              "      <th>userCountry</th>\n",
              "    </tr>\n",
              "  </thead>\n",
              "  <tbody>\n",
              "    <tr>\n",
              "      <th>0</th>\n",
              "      <td>1465413032</td>\n",
              "      <td>VIEW</td>\n",
              "      <td>-3499919498720038879</td>\n",
              "      <td>-8845298781299428018</td>\n",
              "      <td>1264196770339959068</td>\n",
              "      <td>NaN</td>\n",
              "      <td>NaN</td>\n",
              "      <td>NaN</td>\n",
              "    </tr>\n",
              "    <tr>\n",
              "      <th>1</th>\n",
              "      <td>1465412560</td>\n",
              "      <td>VIEW</td>\n",
              "      <td>8890720798209849691</td>\n",
              "      <td>-1032019229384696495</td>\n",
              "      <td>3621737643587579081</td>\n",
              "      <td>Mozilla/5.0 (Macintosh; Intel Mac OS X 10_11_2...</td>\n",
              "      <td>NY</td>\n",
              "      <td>US</td>\n",
              "    </tr>\n",
              "  </tbody>\n",
              "</table>\n",
              "</div>\n",
              "      <button class=\"colab-df-convert\" onclick=\"convertToInteractive('df-b1ec474c-1438-4395-9e9b-e513795766fb')\"\n",
              "              title=\"Convert this dataframe to an interactive table.\"\n",
              "              style=\"display:none;\">\n",
              "        \n",
              "  <svg xmlns=\"http://www.w3.org/2000/svg\" height=\"24px\"viewBox=\"0 0 24 24\"\n",
              "       width=\"24px\">\n",
              "    <path d=\"M0 0h24v24H0V0z\" fill=\"none\"/>\n",
              "    <path d=\"M18.56 5.44l.94 2.06.94-2.06 2.06-.94-2.06-.94-.94-2.06-.94 2.06-2.06.94zm-11 1L8.5 8.5l.94-2.06 2.06-.94-2.06-.94L8.5 2.5l-.94 2.06-2.06.94zm10 10l.94 2.06.94-2.06 2.06-.94-2.06-.94-.94-2.06-.94 2.06-2.06.94z\"/><path d=\"M17.41 7.96l-1.37-1.37c-.4-.4-.92-.59-1.43-.59-.52 0-1.04.2-1.43.59L10.3 9.45l-7.72 7.72c-.78.78-.78 2.05 0 2.83L4 21.41c.39.39.9.59 1.41.59.51 0 1.02-.2 1.41-.59l7.78-7.78 2.81-2.81c.8-.78.8-2.07 0-2.86zM5.41 20L4 18.59l7.72-7.72 1.47 1.35L5.41 20z\"/>\n",
              "  </svg>\n",
              "      </button>\n",
              "      \n",
              "  <style>\n",
              "    .colab-df-container {\n",
              "      display:flex;\n",
              "      flex-wrap:wrap;\n",
              "      gap: 12px;\n",
              "    }\n",
              "\n",
              "    .colab-df-convert {\n",
              "      background-color: #E8F0FE;\n",
              "      border: none;\n",
              "      border-radius: 50%;\n",
              "      cursor: pointer;\n",
              "      display: none;\n",
              "      fill: #1967D2;\n",
              "      height: 32px;\n",
              "      padding: 0 0 0 0;\n",
              "      width: 32px;\n",
              "    }\n",
              "\n",
              "    .colab-df-convert:hover {\n",
              "      background-color: #E2EBFA;\n",
              "      box-shadow: 0px 1px 2px rgba(60, 64, 67, 0.3), 0px 1px 3px 1px rgba(60, 64, 67, 0.15);\n",
              "      fill: #174EA6;\n",
              "    }\n",
              "\n",
              "    [theme=dark] .colab-df-convert {\n",
              "      background-color: #3B4455;\n",
              "      fill: #D2E3FC;\n",
              "    }\n",
              "\n",
              "    [theme=dark] .colab-df-convert:hover {\n",
              "      background-color: #434B5C;\n",
              "      box-shadow: 0px 1px 3px 1px rgba(0, 0, 0, 0.15);\n",
              "      filter: drop-shadow(0px 1px 2px rgba(0, 0, 0, 0.3));\n",
              "      fill: #FFFFFF;\n",
              "    }\n",
              "  </style>\n",
              "\n",
              "      <script>\n",
              "        const buttonEl =\n",
              "          document.querySelector('#df-b1ec474c-1438-4395-9e9b-e513795766fb button.colab-df-convert');\n",
              "        buttonEl.style.display =\n",
              "          google.colab.kernel.accessAllowed ? 'block' : 'none';\n",
              "\n",
              "        async function convertToInteractive(key) {\n",
              "          const element = document.querySelector('#df-b1ec474c-1438-4395-9e9b-e513795766fb');\n",
              "          const dataTable =\n",
              "            await google.colab.kernel.invokeFunction('convertToInteractive',\n",
              "                                                     [key], {});\n",
              "          if (!dataTable) return;\n",
              "\n",
              "          const docLinkHtml = 'Like what you see? Visit the ' +\n",
              "            '<a target=\"_blank\" href=https://colab.research.google.com/notebooks/data_table.ipynb>data table notebook</a>'\n",
              "            + ' to learn more about interactive tables.';\n",
              "          element.innerHTML = '';\n",
              "          dataTable['output_type'] = 'display_data';\n",
              "          await google.colab.output.renderOutput(dataTable, element);\n",
              "          const docLink = document.createElement('div');\n",
              "          docLink.innerHTML = docLinkHtml;\n",
              "          element.appendChild(docLink);\n",
              "        }\n",
              "      </script>\n",
              "    </div>\n",
              "  </div>\n",
              "  "
            ]
          },
          "metadata": {},
          "execution_count": 73
        }
      ],
      "source": [
        "interactions_df = pd.read_csv(\"users_interactions.csv\")\n",
        "interactions_df.head(2) \n",
        "# в eventType указывается, какие действия совершал пользователь"
      ]
    },
    {
      "cell_type": "code",
      "source": [
        "interactions_df.isna().sum() # есть пропуски"
      ],
      "metadata": {
        "colab": {
          "base_uri": "https://localhost:8080/"
        },
        "id": "G1ybozjfL6yv",
        "outputId": "7133b768-1fde-4f2d-f67b-9e568c05e4cc"
      },
      "execution_count": 74,
      "outputs": [
        {
          "output_type": "execute_result",
          "data": {
            "text/plain": [
              "timestamp          0\n",
              "eventType          0\n",
              "contentId          0\n",
              "personId           0\n",
              "sessionId          0\n",
              "userAgent      15394\n",
              "userRegion     15405\n",
              "userCountry    15394\n",
              "dtype: int64"
            ]
          },
          "metadata": {},
          "execution_count": 74
        }
      ]
    },
    {
      "cell_type": "code",
      "source": [
        "interactions_df.replace({np.nan:0}, inplace=True) # убирем все NAN значения"
      ],
      "metadata": {
        "id": "S5tWqu1KMB74"
      },
      "execution_count": 75,
      "outputs": []
    },
    {
      "cell_type": "code",
      "source": [
        "interactions_df.isna().sum() "
      ],
      "metadata": {
        "colab": {
          "base_uri": "https://localhost:8080/"
        },
        "id": "1szHaYGfMCDt",
        "outputId": "72df7bb2-a93a-4c06-a1e3-68a989717ad9"
      },
      "execution_count": 76,
      "outputs": [
        {
          "output_type": "execute_result",
          "data": {
            "text/plain": [
              "timestamp      0\n",
              "eventType      0\n",
              "contentId      0\n",
              "personId       0\n",
              "sessionId      0\n",
              "userAgent      0\n",
              "userRegion     0\n",
              "userCountry    0\n",
              "dtype: int64"
            ]
          },
          "metadata": {},
          "execution_count": 76
        }
      ]
    },
    {
      "cell_type": "code",
      "execution_count": 77,
      "metadata": {
        "id": "5nQScdSTTzNG"
      },
      "outputs": [],
      "source": [
        "interactions_df.personId = interactions_df.personId.astype(str)\n",
        "interactions_df.contentId = interactions_df.contentId.astype(str)\n",
        "articles_df.contentId = articles_df.contentId.astype(str)"
      ]
    },
    {
      "cell_type": "code",
      "execution_count": 78,
      "metadata": {
        "id": "eu6R9rDQT2P4"
      },
      "outputs": [],
      "source": [
        "# зададим словарь определяющий силу взаимодействия \n",
        "# разные действия пользователей, а хотим работать с одной величиной, характеризующей все взаимодействие пользователя со статьей\n",
        "event_type_strength = {\n",
        "   \"VIEW\": 1.0,\n",
        "   \"LIKE\": 2.0, \n",
        "   \"BOOKMARK\": 2.5, \n",
        "   \"FOLLOW\": 3.0,\n",
        "   \"COMMENT CREATED\": 4.0,  \n",
        "}\n",
        "\n",
        "# создаем новую колонку\n",
        "interactions_df[\"eventStrength\"] = interactions_df.eventType.apply(lambda x: event_type_strength[x])\n",
        "# считаем числовую величину \"оценки\" пользователем статьи с указанными выше весами"
      ]
    },
    {
      "cell_type": "markdown",
      "metadata": {
        "id": "ATO5PRRwUkQ0"
      },
      "source": [
        "Оставляем только тех пользователей, которые произамодействовали более чем с пятью статьями тк рекомендательные системы часто подвержены проблеме холодного старта."
      ]
    },
    {
      "cell_type": "code",
      "execution_count": 79,
      "metadata": {
        "id": "d-0HoboYUBm5",
        "colab": {
          "base_uri": "https://localhost:8080/"
        },
        "outputId": "118c050a-f13e-4dab-b121-21cfffef86fb"
      },
      "outputs": [
        {
          "output_type": "stream",
          "name": "stdout",
          "text": [
            "# users: 1895\n",
            "# users with at least 5 interactions: 1140\n"
          ]
        }
      ],
      "source": [
        "users_interactions_count_df = (\n",
        "    interactions_df\n",
        "    .groupby([\"personId\", \"contentId\"])\n",
        "    .first()\n",
        "    .reset_index()\n",
        "    .groupby(\"personId\").size())\n",
        "print(\"# users:\", len(users_interactions_count_df))\n",
        "\n",
        "users_with_enough_interactions_df = \\\n",
        "    users_interactions_count_df[users_interactions_count_df >= 5].reset_index()[[\"personId\"]]\n",
        "print(\"# users with at least 5 interactions:\",len(users_with_enough_interactions_df))"
      ]
    },
    {
      "cell_type": "code",
      "source": [
        "users_interactions_count_df.hist(bins=30);"
      ],
      "metadata": {
        "colab": {
          "base_uri": "https://localhost:8080/",
          "height": 265
        },
        "id": "lf_HrwlIw2cE",
        "outputId": "f4cfd8c1-24f2-4004-d2b0-d90855d19e26"
      },
      "execution_count": 80,
      "outputs": [
        {
          "output_type": "display_data",
          "data": {
            "text/plain": [
              "<Figure size 432x288 with 1 Axes>"
            ],
            "image/png": "[encoded data removed]"
          },
          "metadata": {
            "needs_background": "light"
          }
        }
      ]
    },
    {
      "cell_type": "markdown",
      "metadata": {
        "id": "gQagI3DHUuX5"
      },
      "source": [
        "Оставляем только те взаимодействия, которые относятся к отфильтрованным пользователям."
      ]
    },
    {
      "cell_type": "code",
      "execution_count": 81,
      "metadata": {
        "id": "34rrdGdpUFgk"
      },
      "outputs": [],
      "source": [
        "interactions_from_selected_users_df = interactions_df.loc[np.in1d(interactions_df.personId,\n",
        "            users_with_enough_interactions_df)]"
      ]
    },
    {
      "cell_type": "code",
      "execution_count": 82,
      "metadata": {
        "id": "Hd3VS_BgU9HN",
        "colab": {
          "base_uri": "https://localhost:8080/"
        },
        "outputId": "85bf7414-bbb1-405f-c2a1-d69b7e8d305b"
      },
      "outputs": [
        {
          "output_type": "stream",
          "name": "stdout",
          "text": [
            "# interactions before: (72312, 9)\n",
            "# interactions after: (69868, 9)\n"
          ]
        }
      ],
      "source": [
        "print(f\"# interactions before: {interactions_df.shape}\")\n",
        "print(f\"# interactions after: {interactions_from_selected_users_df.shape}\")"
      ]
    },
    {
      "cell_type": "markdown",
      "metadata": {
        "id": "FYpRiFkQVR6B"
      },
      "source": [
        "Объединяем все взаимодействия пользователя по каждой статье (тк один и тот же пользователь в данной постановке мог взаимодейтсвовать с каждой статьей более 1 раза (совершая разные действия)) и сглаживаем полученный результат, взяв от него логарифм (тк полученное число будет тем больше, чем больше взаимодействий со статьей произвел человек)."
      ]
    },
    {
      "cell_type": "code",
      "execution_count": 83,
      "metadata": {
        "id": "mtPtAehKVEUu",
        "colab": {
          "base_uri": "https://localhost:8080/",
          "height": 206
        },
        "outputId": "fa3de3c8-6e24-4a47-b35c-8d5b3b601361"
      },
      "outputs": [
        {
          "output_type": "execute_result",
          "data": {
            "text/plain": [
              "               personId             contentId  eventStrength  last_timestamp\n",
              "0  -1007001694607905623  -5065077552540450930       1.000000      1470395911\n",
              "1  -1007001694607905623  -6623581327558800021       1.000000      1487240080\n",
              "2  -1007001694607905623   -793729620925729327       1.000000      1472834892\n",
              "3  -1007001694607905623   1469580151036142903       1.000000      1487240062\n",
              "4  -1007001694607905623   7270966256391553686       1.584963      1485994324"
            ],
            "text/html": [
              "\n",
              "  <div id=\"df-c6e4b9ea-0a6a-4c52-8d3a-2c594702a837\">\n",
              "    <div class=\"colab-df-container\">\n",
              "      <div>\n",
              "<style scoped>\n",
              "    .dataframe tbody tr th:only-of-type {\n",
              "        vertical-align: middle;\n",
              "    }\n",
              "\n",
              "    .dataframe tbody tr th {\n",
              "        vertical-align: top;\n",
              "    }\n",
              "\n",
              "    .dataframe thead th {\n",
              "        text-align: right;\n",
              "    }\n",
              "</style>\n",
              "<table border=\"1\" class=\"dataframe\">\n",
              "  <thead>\n",
              "    <tr style=\"text-align: right;\">\n",
              "      <th></th>\n",
              "      <th>personId</th>\n",
              "      <th>contentId</th>\n",
              "      <th>eventStrength</th>\n",
              "      <th>last_timestamp</th>\n",
              "    </tr>\n",
              "  </thead>\n",
              "  <tbody>\n",
              "    <tr>\n",
              "      <th>0</th>\n",
              "      <td>-1007001694607905623</td>\n",
              "      <td>-5065077552540450930</td>\n",
              "      <td>1.000000</td>\n",
              "      <td>1470395911</td>\n",
              "    </tr>\n",
              "    <tr>\n",
              "      <th>1</th>\n",
              "      <td>-1007001694607905623</td>\n",
              "      <td>-6623581327558800021</td>\n",
              "      <td>1.000000</td>\n",
              "      <td>1487240080</td>\n",
              "    </tr>\n",
              "    <tr>\n",
              "      <th>2</th>\n",
              "      <td>-1007001694607905623</td>\n",
              "      <td>-793729620925729327</td>\n",
              "      <td>1.000000</td>\n",
              "      <td>1472834892</td>\n",
              "    </tr>\n",
              "    <tr>\n",
              "      <th>3</th>\n",
              "      <td>-1007001694607905623</td>\n",
              "      <td>1469580151036142903</td>\n",
              "      <td>1.000000</td>\n",
              "      <td>1487240062</td>\n",
              "    </tr>\n",
              "    <tr>\n",
              "      <th>4</th>\n",
              "      <td>-1007001694607905623</td>\n",
              "      <td>7270966256391553686</td>\n",
              "      <td>1.584963</td>\n",
              "      <td>1485994324</td>\n",
              "    </tr>\n",
              "  </tbody>\n",
              "</table>\n",
              "</div>\n",
              "      <button class=\"colab-df-convert\" onclick=\"convertToInteractive('df-c6e4b9ea-0a6a-4c52-8d3a-2c594702a837')\"\n",
              "              title=\"Convert this dataframe to an interactive table.\"\n",
              "              style=\"display:none;\">\n",
              "        \n",
              "  <svg xmlns=\"http://www.w3.org/2000/svg\" height=\"24px\"viewBox=\"0 0 24 24\"\n",
              "       width=\"24px\">\n",
              "    <path d=\"M0 0h24v24H0V0z\" fill=\"none\"/>\n",
              "    <path d=\"M18.56 5.44l.94 2.06.94-2.06 2.06-.94-2.06-.94-.94-2.06-.94 2.06-2.06.94zm-11 1L8.5 8.5l.94-2.06 2.06-.94-2.06-.94L8.5 2.5l-.94 2.06-2.06.94zm10 10l.94 2.06.94-2.06 2.06-.94-2.06-.94-.94-2.06-.94 2.06-2.06.94z\"/><path d=\"M17.41 7.96l-1.37-1.37c-.4-.4-.92-.59-1.43-.59-.52 0-1.04.2-1.43.59L10.3 9.45l-7.72 7.72c-.78.78-.78 2.05 0 2.83L4 21.41c.39.39.9.59 1.41.59.51 0 1.02-.2 1.41-.59l7.78-7.78 2.81-2.81c.8-.78.8-2.07 0-2.86zM5.41 20L4 18.59l7.72-7.72 1.47 1.35L5.41 20z\"/>\n",
              "  </svg>\n",
              "      </button>\n",
              "      \n",
              "  <style>\n",
              "    .colab-df-container {\n",
              "      display:flex;\n",
              "      flex-wrap:wrap;\n",
              "      gap: 12px;\n",
              "    }\n",
              "\n",
              "    .colab-df-convert {\n",
              "      background-color: #E8F0FE;\n",
              "      border: none;\n",
              "      border-radius: 50%;\n",
              "      cursor: pointer;\n",
              "      display: none;\n",
              "      fill: #1967D2;\n",
              "      height: 32px;\n",
              "      padding: 0 0 0 0;\n",
              "      width: 32px;\n",
              "    }\n",
              "\n",
              "    .colab-df-convert:hover {\n",
              "      background-color: #E2EBFA;\n",
              "      box-shadow: 0px 1px 2px rgba(60, 64, 67, 0.3), 0px 1px 3px 1px rgba(60, 64, 67, 0.15);\n",
              "      fill: #174EA6;\n",
              "    }\n",
              "\n",
              "    [theme=dark] .colab-df-convert {\n",
              "      background-color: #3B4455;\n",
              "      fill: #D2E3FC;\n",
              "    }\n",
              "\n",
              "    [theme=dark] .colab-df-convert:hover {\n",
              "      background-color: #434B5C;\n",
              "      box-shadow: 0px 1px 3px 1px rgba(0, 0, 0, 0.15);\n",
              "      filter: drop-shadow(0px 1px 2px rgba(0, 0, 0, 0.3));\n",
              "      fill: #FFFFFF;\n",
              "    }\n",
              "  </style>\n",
              "\n",
              "      <script>\n",
              "        const buttonEl =\n",
              "          document.querySelector('#df-c6e4b9ea-0a6a-4c52-8d3a-2c594702a837 button.colab-df-convert');\n",
              "        buttonEl.style.display =\n",
              "          google.colab.kernel.accessAllowed ? 'block' : 'none';\n",
              "\n",
              "        async function convertToInteractive(key) {\n",
              "          const element = document.querySelector('#df-c6e4b9ea-0a6a-4c52-8d3a-2c594702a837');\n",
              "          const dataTable =\n",
              "            await google.colab.kernel.invokeFunction('convertToInteractive',\n",
              "                                                     [key], {});\n",
              "          if (!dataTable) return;\n",
              "\n",
              "          const docLinkHtml = 'Like what you see? Visit the ' +\n",
              "            '<a target=\"_blank\" href=https://colab.research.google.com/notebooks/data_table.ipynb>data table notebook</a>'\n",
              "            + ' to learn more about interactive tables.';\n",
              "          element.innerHTML = '';\n",
              "          dataTable['output_type'] = 'display_data';\n",
              "          await google.colab.output.renderOutput(dataTable, element);\n",
              "          const docLink = document.createElement('div');\n",
              "          docLink.innerHTML = docLinkHtml;\n",
              "          element.appendChild(docLink);\n",
              "        }\n",
              "      </script>\n",
              "    </div>\n",
              "  </div>\n",
              "  "
            ]
          },
          "metadata": {},
          "execution_count": 83
        }
      ],
      "source": [
        "def smooth_user_preference(x):\n",
        "    return math.log(1+x, 2)\n",
        "    \n",
        "interactions_full_df = (\n",
        "    interactions_from_selected_users_df\n",
        "    .groupby([\"personId\", \"contentId\"]).eventStrength.sum()\n",
        "    .apply(smooth_user_preference)\n",
        "    .reset_index().set_index([\"personId\", \"contentId\"])\n",
        ")\n",
        "interactions_full_df[\"last_timestamp\"] = (\n",
        "    interactions_from_selected_users_df\n",
        "    .groupby([\"personId\", \"contentId\"])[\"timestamp\"].last()\n",
        ")\n",
        "        \n",
        "interactions_full_df = interactions_full_df.reset_index()\n",
        "interactions_full_df.head(5)"
      ]
    },
    {
      "cell_type": "markdown",
      "metadata": {
        "id": "ODJYMtnNWM5w"
      },
      "source": [
        "Разобьём выборку на обучение и контроль по времени."
      ]
    },
    {
      "cell_type": "code",
      "execution_count": 84,
      "metadata": {
        "id": "3F2CfAwoVrfo",
        "colab": {
          "base_uri": "https://localhost:8080/",
          "height": 458
        },
        "outputId": "78cfac57-682b-4e55-f6a3-3eeee7494454"
      },
      "outputs": [
        {
          "output_type": "stream",
          "name": "stdout",
          "text": [
            "# interactions on Train set: 29329\n",
            "# interactions on Test set: 9777\n"
          ]
        },
        {
          "output_type": "execute_result",
          "data": {
            "text/plain": [
              "                   personId             contentId  eventStrength  \\\n",
              "0      -1007001694607905623  -5065077552540450930            1.0   \n",
              "2      -1007001694607905623   -793729620925729327            1.0   \n",
              "6      -1032019229384696495  -1006791494035379303            1.0   \n",
              "7      -1032019229384696495  -1039912738963181810            1.0   \n",
              "8      -1032019229384696495  -1081723567492738167            2.0   \n",
              "...                     ...                   ...            ...   \n",
              "39099    997469202936578234   9112765177685685246            2.0   \n",
              "39100    998688566268269815  -1255189867397298842            1.0   \n",
              "39101    998688566268269815   -401664538366009049            1.0   \n",
              "39103    998688566268269815   6881796783400625893            1.0   \n",
              "39105    998688566268269815    739747367187387064            1.0   \n",
              "\n",
              "       last_timestamp  \n",
              "0          1470395911  \n",
              "2          1472834892  \n",
              "6          1469129122  \n",
              "7          1459376415  \n",
              "8          1464054093  \n",
              "...               ...  \n",
              "39099      1472479493  \n",
              "39100      1474567164  \n",
              "39101      1474567449  \n",
              "39103      1474567675  \n",
              "39105      1474567514  \n",
              "\n",
              "[29329 rows x 4 columns]"
            ],
            "text/html": [
              "\n",
              "  <div id=\"df-51664ff5-81d4-45ce-8c21-8c1519531f01\">\n",
              "    <div class=\"colab-df-container\">\n",
              "      <div>\n",
              "<style scoped>\n",
              "    .dataframe tbody tr th:only-of-type {\n",
              "        vertical-align: middle;\n",
              "    }\n",
              "\n",
              "    .dataframe tbody tr th {\n",
              "        vertical-align: top;\n",
              "    }\n",
              "\n",
              "    .dataframe thead th {\n",
              "        text-align: right;\n",
              "    }\n",
              "</style>\n",
              "<table border=\"1\" class=\"dataframe\">\n",
              "  <thead>\n",
              "    <tr style=\"text-align: right;\">\n",
              "      <th></th>\n",
              "      <th>personId</th>\n",
              "      <th>contentId</th>\n",
              "      <th>eventStrength</th>\n",
              "      <th>last_timestamp</th>\n",
              "    </tr>\n",
              "  </thead>\n",
              "  <tbody>\n",
              "    <tr>\n",
              "      <th>0</th>\n",
              "      <td>-1007001694607905623</td>\n",
              "      <td>-5065077552540450930</td>\n",
              "      <td>1.0</td>\n",
              "      <td>1470395911</td>\n",
              "    </tr>\n",
              "    <tr>\n",
              "      <th>2</th>\n",
              "      <td>-1007001694607905623</td>\n",
              "      <td>-793729620925729327</td>\n",
              "      <td>1.0</td>\n",
              "      <td>1472834892</td>\n",
              "    </tr>\n",
              "    <tr>\n",
              "      <th>6</th>\n",
              "      <td>-1032019229384696495</td>\n",
              "      <td>-1006791494035379303</td>\n",
              "      <td>1.0</td>\n",
              "      <td>1469129122</td>\n",
              "    </tr>\n",
              "    <tr>\n",
              "      <th>7</th>\n",
              "      <td>-1032019229384696495</td>\n",
              "      <td>-1039912738963181810</td>\n",
              "      <td>1.0</td>\n",
              "      <td>1459376415</td>\n",
              "    </tr>\n",
              "    <tr>\n",
              "      <th>8</th>\n",
              "      <td>-1032019229384696495</td>\n",
              "      <td>-1081723567492738167</td>\n",
              "      <td>2.0</td>\n",
              "      <td>1464054093</td>\n",
              "    </tr>\n",
              "    <tr>\n",
              "      <th>...</th>\n",
              "      <td>...</td>\n",
              "      <td>...</td>\n",
              "      <td>...</td>\n",
              "      <td>...</td>\n",
              "    </tr>\n",
              "    <tr>\n",
              "      <th>39099</th>\n",
              "      <td>997469202936578234</td>\n",
              "      <td>9112765177685685246</td>\n",
              "      <td>2.0</td>\n",
              "      <td>1472479493</td>\n",
              "    </tr>\n",
              "    <tr>\n",
              "      <th>39100</th>\n",
              "      <td>998688566268269815</td>\n",
              "      <td>-1255189867397298842</td>\n",
              "      <td>1.0</td>\n",
              "      <td>1474567164</td>\n",
              "    </tr>\n",
              "    <tr>\n",
              "      <th>39101</th>\n",
              "      <td>998688566268269815</td>\n",
              "      <td>-401664538366009049</td>\n",
              "      <td>1.0</td>\n",
              "      <td>1474567449</td>\n",
              "    </tr>\n",
              "    <tr>\n",
              "      <th>39103</th>\n",
              "      <td>998688566268269815</td>\n",
              "      <td>6881796783400625893</td>\n",
              "      <td>1.0</td>\n",
              "      <td>1474567675</td>\n",
              "    </tr>\n",
              "    <tr>\n",
              "      <th>39105</th>\n",
              "      <td>998688566268269815</td>\n",
              "      <td>739747367187387064</td>\n",
              "      <td>1.0</td>\n",
              "      <td>1474567514</td>\n",
              "    </tr>\n",
              "  </tbody>\n",
              "</table>\n",
              "<p>29329 rows × 4 columns</p>\n",
              "</div>\n",
              "      <button class=\"colab-df-convert\" onclick=\"convertToInteractive('df-51664ff5-81d4-45ce-8c21-8c1519531f01')\"\n",
              "              title=\"Convert this dataframe to an interactive table.\"\n",
              "              style=\"display:none;\">\n",
              "        \n",
              "  <svg xmlns=\"http://www.w3.org/2000/svg\" height=\"24px\"viewBox=\"0 0 24 24\"\n",
              "       width=\"24px\">\n",
              "    <path d=\"M0 0h24v24H0V0z\" fill=\"none\"/>\n",
              "    <path d=\"M18.56 5.44l.94 2.06.94-2.06 2.06-.94-2.06-.94-.94-2.06-.94 2.06-2.06.94zm-11 1L8.5 8.5l.94-2.06 2.06-.94-2.06-.94L8.5 2.5l-.94 2.06-2.06.94zm10 10l.94 2.06.94-2.06 2.06-.94-2.06-.94-.94-2.06-.94 2.06-2.06.94z\"/><path d=\"M17.41 7.96l-1.37-1.37c-.4-.4-.92-.59-1.43-.59-.52 0-1.04.2-1.43.59L10.3 9.45l-7.72 7.72c-.78.78-.78 2.05 0 2.83L4 21.41c.39.39.9.59 1.41.59.51 0 1.02-.2 1.41-.59l7.78-7.78 2.81-2.81c.8-.78.8-2.07 0-2.86zM5.41 20L4 18.59l7.72-7.72 1.47 1.35L5.41 20z\"/>\n",
              "  </svg>\n",
              "      </button>\n",
              "      \n",
              "  <style>\n",
              "    .colab-df-container {\n",
              "      display:flex;\n",
              "      flex-wrap:wrap;\n",
              "      gap: 12px;\n",
              "    }\n",
              "\n",
              "    .colab-df-convert {\n",
              "      background-color: #E8F0FE;\n",
              "      border: none;\n",
              "      border-radius: 50%;\n",
              "      cursor: pointer;\n",
              "      display: none;\n",
              "      fill: #1967D2;\n",
              "      height: 32px;\n",
              "      padding: 0 0 0 0;\n",
              "      width: 32px;\n",
              "    }\n",
              "\n",
              "    .colab-df-convert:hover {\n",
              "      background-color: #E2EBFA;\n",
              "      box-shadow: 0px 1px 2px rgba(60, 64, 67, 0.3), 0px 1px 3px 1px rgba(60, 64, 67, 0.15);\n",
              "      fill: #174EA6;\n",
              "    }\n",
              "\n",
              "    [theme=dark] .colab-df-convert {\n",
              "      background-color: #3B4455;\n",
              "      fill: #D2E3FC;\n",
              "    }\n",
              "\n",
              "    [theme=dark] .colab-df-convert:hover {\n",
              "      background-color: #434B5C;\n",
              "      box-shadow: 0px 1px 3px 1px rgba(0, 0, 0, 0.15);\n",
              "      filter: drop-shadow(0px 1px 2px rgba(0, 0, 0, 0.3));\n",
              "      fill: #FFFFFF;\n",
              "    }\n",
              "  </style>\n",
              "\n",
              "      <script>\n",
              "        const buttonEl =\n",
              "          document.querySelector('#df-51664ff5-81d4-45ce-8c21-8c1519531f01 button.colab-df-convert');\n",
              "        buttonEl.style.display =\n",
              "          google.colab.kernel.accessAllowed ? 'block' : 'none';\n",
              "\n",
              "        async function convertToInteractive(key) {\n",
              "          const element = document.querySelector('#df-51664ff5-81d4-45ce-8c21-8c1519531f01');\n",
              "          const dataTable =\n",
              "            await google.colab.kernel.invokeFunction('convertToInteractive',\n",
              "                                                     [key], {});\n",
              "          if (!dataTable) return;\n",
              "\n",
              "          const docLinkHtml = 'Like what you see? Visit the ' +\n",
              "            '<a target=\"_blank\" href=https://colab.research.google.com/notebooks/data_table.ipynb>data table notebook</a>'\n",
              "            + ' to learn more about interactive tables.';\n",
              "          element.innerHTML = '';\n",
              "          dataTable['output_type'] = 'display_data';\n",
              "          await google.colab.output.renderOutput(dataTable, element);\n",
              "          const docLink = document.createElement('div');\n",
              "          docLink.innerHTML = docLinkHtml;\n",
              "          element.appendChild(docLink);\n",
              "        }\n",
              "      </script>\n",
              "    </div>\n",
              "  </div>\n",
              "  "
            ]
          },
          "metadata": {},
          "execution_count": 84
        }
      ],
      "source": [
        "from sklearn.model_selection import train_test_split\n",
        "\n",
        "split_ts = 1475519530\n",
        "interactions_train_df = interactions_full_df.loc[interactions_full_df.last_timestamp < split_ts].copy()\n",
        "interactions_test_df = interactions_full_df.loc[interactions_full_df.last_timestamp >= split_ts].copy()\n",
        "\n",
        "print(f\"# interactions on Train set: {len(interactions_train_df)}\")\n",
        "print(f\"# interactions on Test set: {len(interactions_test_df)}\")\n",
        "\n",
        "interactions_train_df"
      ]
    },
    {
      "cell_type": "markdown",
      "metadata": {
        "id": "h5G3FTYOXLVg"
      },
      "source": [
        "Для удобства подсчёта качества запишем данные в формате, где строка соответствует пользователю, а столбцы будут истинными метками и предсказаниями в виде списков."
      ]
    },
    {
      "cell_type": "code",
      "execution_count": 85,
      "metadata": {
        "id": "RT-_toqfXOa2",
        "colab": {
          "base_uri": "https://localhost:8080/",
          "height": 112
        },
        "outputId": "1d8f4de3-efba-470b-ce12-259b9c148d96"
      },
      "outputs": [
        {
          "output_type": "execute_result",
          "data": {
            "text/plain": [
              "                                                       true_train  \\\n",
              "personId                                                            \n",
              "-1007001694607905623  [-5065077552540450930, -793729620925729327]   \n",
              "\n",
              "                                                              true_test  \n",
              "personId                                                                 \n",
              "-1007001694607905623  [-6623581327558800021, 1469580151036142903, 72...  "
            ],
            "text/html": [
              "\n",
              "  <div id=\"df-43b35e78-b2d8-4140-8de2-883ac87c7d35\">\n",
              "    <div class=\"colab-df-container\">\n",
              "      <div>\n",
              "<style scoped>\n",
              "    .dataframe tbody tr th:only-of-type {\n",
              "        vertical-align: middle;\n",
              "    }\n",
              "\n",
              "    .dataframe tbody tr th {\n",
              "        vertical-align: top;\n",
              "    }\n",
              "\n",
              "    .dataframe thead th {\n",
              "        text-align: right;\n",
              "    }\n",
              "</style>\n",
              "<table border=\"1\" class=\"dataframe\">\n",
              "  <thead>\n",
              "    <tr style=\"text-align: right;\">\n",
              "      <th></th>\n",
              "      <th>true_train</th>\n",
              "      <th>true_test</th>\n",
              "    </tr>\n",
              "    <tr>\n",
              "      <th>personId</th>\n",
              "      <th></th>\n",
              "      <th></th>\n",
              "    </tr>\n",
              "  </thead>\n",
              "  <tbody>\n",
              "    <tr>\n",
              "      <th>-1007001694607905623</th>\n",
              "      <td>[-5065077552540450930, -793729620925729327]</td>\n",
              "      <td>[-6623581327558800021, 1469580151036142903, 72...</td>\n",
              "    </tr>\n",
              "  </tbody>\n",
              "</table>\n",
              "</div>\n",
              "      <button class=\"colab-df-convert\" onclick=\"convertToInteractive('df-43b35e78-b2d8-4140-8de2-883ac87c7d35')\"\n",
              "              title=\"Convert this dataframe to an interactive table.\"\n",
              "              style=\"display:none;\">\n",
              "        \n",
              "  <svg xmlns=\"http://www.w3.org/2000/svg\" height=\"24px\"viewBox=\"0 0 24 24\"\n",
              "       width=\"24px\">\n",
              "    <path d=\"M0 0h24v24H0V0z\" fill=\"none\"/>\n",
              "    <path d=\"M18.56 5.44l.94 2.06.94-2.06 2.06-.94-2.06-.94-.94-2.06-.94 2.06-2.06.94zm-11 1L8.5 8.5l.94-2.06 2.06-.94-2.06-.94L8.5 2.5l-.94 2.06-2.06.94zm10 10l.94 2.06.94-2.06 2.06-.94-2.06-.94-.94-2.06-.94 2.06-2.06.94z\"/><path d=\"M17.41 7.96l-1.37-1.37c-.4-.4-.92-.59-1.43-.59-.52 0-1.04.2-1.43.59L10.3 9.45l-7.72 7.72c-.78.78-.78 2.05 0 2.83L4 21.41c.39.39.9.59 1.41.59.51 0 1.02-.2 1.41-.59l7.78-7.78 2.81-2.81c.8-.78.8-2.07 0-2.86zM5.41 20L4 18.59l7.72-7.72 1.47 1.35L5.41 20z\"/>\n",
              "  </svg>\n",
              "      </button>\n",
              "      \n",
              "  <style>\n",
              "    .colab-df-container {\n",
              "      display:flex;\n",
              "      flex-wrap:wrap;\n",
              "      gap: 12px;\n",
              "    }\n",
              "\n",
              "    .colab-df-convert {\n",
              "      background-color: #E8F0FE;\n",
              "      border: none;\n",
              "      border-radius: 50%;\n",
              "      cursor: pointer;\n",
              "      display: none;\n",
              "      fill: #1967D2;\n",
              "      height: 32px;\n",
              "      padding: 0 0 0 0;\n",
              "      width: 32px;\n",
              "    }\n",
              "\n",
              "    .colab-df-convert:hover {\n",
              "      background-color: #E2EBFA;\n",
              "      box-shadow: 0px 1px 2px rgba(60, 64, 67, 0.3), 0px 1px 3px 1px rgba(60, 64, 67, 0.15);\n",
              "      fill: #174EA6;\n",
              "    }\n",
              "\n",
              "    [theme=dark] .colab-df-convert {\n",
              "      background-color: #3B4455;\n",
              "      fill: #D2E3FC;\n",
              "    }\n",
              "\n",
              "    [theme=dark] .colab-df-convert:hover {\n",
              "      background-color: #434B5C;\n",
              "      box-shadow: 0px 1px 3px 1px rgba(0, 0, 0, 0.15);\n",
              "      filter: drop-shadow(0px 1px 2px rgba(0, 0, 0, 0.3));\n",
              "      fill: #FFFFFF;\n",
              "    }\n",
              "  </style>\n",
              "\n",
              "      <script>\n",
              "        const buttonEl =\n",
              "          document.querySelector('#df-43b35e78-b2d8-4140-8de2-883ac87c7d35 button.colab-df-convert');\n",
              "        buttonEl.style.display =\n",
              "          google.colab.kernel.accessAllowed ? 'block' : 'none';\n",
              "\n",
              "        async function convertToInteractive(key) {\n",
              "          const element = document.querySelector('#df-43b35e78-b2d8-4140-8de2-883ac87c7d35');\n",
              "          const dataTable =\n",
              "            await google.colab.kernel.invokeFunction('convertToInteractive',\n",
              "                                                     [key], {});\n",
              "          if (!dataTable) return;\n",
              "\n",
              "          const docLinkHtml = 'Like what you see? Visit the ' +\n",
              "            '<a target=\"_blank\" href=https://colab.research.google.com/notebooks/data_table.ipynb>data table notebook</a>'\n",
              "            + ' to learn more about interactive tables.';\n",
              "          element.innerHTML = '';\n",
              "          dataTable['output_type'] = 'display_data';\n",
              "          await google.colab.output.renderOutput(dataTable, element);\n",
              "          const docLink = document.createElement('div');\n",
              "          docLink.innerHTML = docLinkHtml;\n",
              "          element.appendChild(docLink);\n",
              "        }\n",
              "      </script>\n",
              "    </div>\n",
              "  </div>\n",
              "  "
            ]
          },
          "metadata": {},
          "execution_count": 85
        }
      ],
      "source": [
        "interactions = (\n",
        "    interactions_train_df\n",
        "    .groupby(\"personId\")[\"contentId\"].agg(lambda x: list(x))\n",
        "    .reset_index()\n",
        "    .rename(columns={\"contentId\": \"true_train\"})\n",
        "    .set_index(\"personId\")\n",
        ")\n",
        "\n",
        "interactions[\"true_test\"] = (\n",
        "    interactions_test_df\n",
        "    .groupby(\"personId\")[\"contentId\"].agg(lambda x: list(x))\n",
        ")\n",
        "\n",
        "# заполнение пропусков пустыми списками\n",
        "interactions.loc[pd.isnull(interactions.true_test), \"true_test\"] = [\n",
        "    \"\" for x in range(len(interactions.loc[pd.isnull(interactions.true_test), \"true_test\"]))]\n",
        "\n",
        "interactions.head(1)"
      ]
    },
    {
      "cell_type": "markdown",
      "metadata": {
        "id": "-UWDyWKsamSa"
      },
      "source": [
        "# Библиотека LightFM"
      ]
    },
    {
      "cell_type": "markdown",
      "metadata": {
        "id": "L-iXjvdZa25Z"
      },
      "source": [
        "Для рекомендации Вы будете пользоваться библиотекой [LightFM](https://making.lyst.com/lightfm/docs/home.html), в которой реализованы популярные алгоритмы. Для оценивания качества рекомендации, как и на семинаре, будем пользоваться метрикой *precision@10*."
      ]
    },
    {
      "cell_type": "code",
      "execution_count": null,
      "metadata": {
        "id": "LhUcUt7PoGSB"
      },
      "outputs": [],
      "source": [
        "!pip install lightfm"
      ]
    },
    {
      "cell_type": "code",
      "execution_count": 29,
      "metadata": {
        "id": "Qtyn38PZXPLf"
      },
      "outputs": [],
      "source": [
        "from lightfm import LightFM\n",
        "from lightfm.evaluation import precision_at_k"
      ]
    },
    {
      "cell_type": "markdown",
      "metadata": {
        "id": "0CjyGqulcZTf"
      },
      "source": [
        "## Задание 1 (2 балла)"
      ]
    },
    {
      "cell_type": "markdown",
      "metadata": {
        "id": "4Sof6V5Dd4h9"
      },
      "source": [
        "Модели в LightFM работают с разреженными матрицами. Создайте разреженные матрицы `data_train` и `data_test` (размером количество пользователей на количество статей), такие что на пересечении строки пользователя и столбца статьи стоит сила их взаимодействия, если взаимодействие было, и стоит ноль, если взаимодействия не было."
      ]
    },
    {
      "cell_type": "markdown",
      "source": [
        "Использовала этот ресурс при решении этого пункта: https://python.plainenglish.io/introduction-to-recommender-systems-using-lightfm-in-azure-ml-e86feaff6ac4\n"
      ],
      "metadata": {
        "id": "KmPwsLs58ffu"
      }
    },
    {
      "cell_type": "code",
      "source": [
        "from scipy.sparse import csr_matrix"
      ],
      "metadata": {
        "id": "jX0QB_h77MA6"
      },
      "execution_count": 35,
      "outputs": []
    },
    {
      "cell_type": "code",
      "source": [
        "from lightfm.data import Dataset\n",
        "dataset1 = Dataset()"
      ],
      "metadata": {
        "id": "i51-NYA5OLSi"
      },
      "execution_count": 66,
      "outputs": []
    },
    {
      "cell_type": "code",
      "source": [
        "dataset1.fit(interactions_full_df[\"personId\"].unique(),\n",
        "             interactions_full_df[\"contentId\"].unique())\n",
        "\n",
        "(train_matrix, train_matrix_weights) = dataset1.build_interactions([(x[0], x[1]) for x in interactions_train_df.values])\n",
        "(test_matrix, test_matrix_weights) = dataset1.build_interactions([(x[0], x[1]) for x in interactions_test_df.values])"
      ],
      "metadata": {
        "id": "C0A2rwVFOEuO"
      },
      "execution_count": 89,
      "outputs": []
    },
    {
      "cell_type": "markdown",
      "metadata": {
        "id": "AiNGVzTveRXE"
      },
      "source": [
        "## Задание 2 (1 балл)"
      ]
    },
    {
      "cell_type": "markdown",
      "metadata": {
        "id": "ZPfVK3STeryM"
      },
      "source": [
        "Обучите модель LightFM с `loss=\"warp\"` и посчитайте *precision@10* на тесте."
      ]
    },
    {
      "cell_type": "code",
      "execution_count": 97,
      "metadata": {
        "id": "YFQxeHw8eVLz",
        "colab": {
          "base_uri": "https://localhost:8080/"
        },
        "outputId": "fd8db2c8-10ce-4d63-ecf0-a39cb987e27e"
      },
      "outputs": [
        {
          "output_type": "execute_result",
          "data": {
            "text/plain": [
              "<lightfm.lightfm.LightFM at 0x7f7460e35dd0>"
            ]
          },
          "metadata": {},
          "execution_count": 97
        }
      ],
      "source": [
        "model = LightFM(loss='warp', random_state=111)\n",
        "model.fit(interactions=train_matrix, sample_weight=train_matrix_weights, epochs=30)"
      ]
    },
    {
      "cell_type": "code",
      "source": [
        "print(f\"Train precision@10: {precision_at_k(model,k=10,test_interactions=train_matrix).mean()}\")\n",
        "print(f\"Test precision@10: {precision_at_k(model,k=10,test_interactions=test_matrix).mean()}\")"
      ],
      "metadata": {
        "colab": {
          "base_uri": "https://localhost:8080/"
        },
        "id": "VkGG-dw-Viay",
        "outputId": "d3199366-1960-4e11-dd07-d853a0c59f79"
      },
      "execution_count": 98,
      "outputs": [
        {
          "output_type": "stream",
          "name": "stdout",
          "text": [
            "Train precision@10: 0.2465827465057373\n",
            "Test precision@10: 0.004684318322688341\n"
          ]
        }
      ]
    },
    {
      "cell_type": "markdown",
      "metadata": {
        "id": "qZDsG1iAfdrl"
      },
      "source": [
        "## Задание 3 (3 балла)"
      ]
    },
    {
      "cell_type": "markdown",
      "metadata": {
        "id": "F93chvtbgA9N"
      },
      "source": [
        "При вызове метода `fit` LightFM позволяет передавать в `item_features` признаковое описание объектов. Воспользуемся этим. Будем получать признаковое описание из текста статьи в виде [TF-IDF](https://ru.wikipedia.org/wiki/TF-IDF) (можно воспользоваться `TfidfVectorizer` из scikit-learn). Создайте матрицу `feat` размером количесвто статей на размер признакового описание и обучите LightFM с `loss=\"warp\"` и посчитайте precision@10 на тесте."
      ]
    },
    {
      "cell_type": "code",
      "execution_count": 99,
      "metadata": {
        "id": "5SvUi_Fofgf5"
      },
      "outputs": [],
      "source": [
        "from sklearn.feature_extraction.text import TfidfVectorizer"
      ]
    },
    {
      "cell_type": "code",
      "source": [
        "vector = TfidfVectorizer()\n",
        "feat = vector.fit_transform(articles_df['text'])"
      ],
      "metadata": {
        "id": "QWfgGZo9Wrm9"
      },
      "execution_count": 100,
      "outputs": []
    },
    {
      "cell_type": "code",
      "source": [
        "model2 = LightFM(loss='warp', random_state=111)\n",
        "model2.fit(interactions=train_matrix, sample_weight=train_matrix_weights, item_features=feat, epochs=30)"
      ],
      "metadata": {
        "colab": {
          "base_uri": "https://localhost:8080/"
        },
        "id": "QMmCbKNwW8X3",
        "outputId": "399bcdd6-5790-4e4c-88e8-5d7bab261321"
      },
      "execution_count": 106,
      "outputs": [
        {
          "output_type": "execute_result",
          "data": {
            "text/plain": [
              "<lightfm.lightfm.LightFM at 0x7f744c2afc90>"
            ]
          },
          "metadata": {},
          "execution_count": 106
        }
      ]
    },
    {
      "cell_type": "code",
      "source": [
        "print(f\"Train precision@10: {precision_at_k(model2, k=10, test_interactions=train_matrix, item_features=feat).mean()}\")"
      ],
      "metadata": {
        "colab": {
          "base_uri": "https://localhost:8080/"
        },
        "id": "cWVRWMe2avO6",
        "outputId": "b74ee136-9f04-40f4-aef8-72bc1e84396b"
      },
      "execution_count": 108,
      "outputs": [
        {
          "output_type": "stream",
          "name": "stdout",
          "text": [
            "Train precision@10: 0.23660075664520264\n"
          ]
        }
      ]
    },
    {
      "cell_type": "code",
      "source": [
        "print(f\"Test precision@10: {precision_at_k(model2,k=10,test_interactions=test_matrix, item_features=feat).mean()}\")"
      ],
      "metadata": {
        "colab": {
          "base_uri": "https://localhost:8080/"
        },
        "id": "7lMsCQ7oYQe4",
        "outputId": "f97e73e7-26a5-42d4-b00a-8e15661953b5"
      },
      "execution_count": 107,
      "outputs": [
        {
          "output_type": "stream",
          "name": "stdout",
          "text": [
            "Test precision@10: 0.00529531529173255\n"
          ]
        }
      ]
    },
    {
      "cell_type": "markdown",
      "metadata": {
        "id": "8Lwuex6PpsFw"
      },
      "source": [
        "## Задание 4 (2 балла)"
      ]
    },
    {
      "cell_type": "markdown",
      "metadata": {
        "id": "5aZcHjSzp2cZ"
      },
      "source": [
        "В задании 3 мы использовали сырой текст статей. В этом задании необходимо сначала сделать предобработку текста (привести к нижнему регистру, убрать стоп слова, привести слова к номральной форме и т.д.), после чего обучите модель и оценить качество на тестовых данных."
      ]
    },
    {
      "cell_type": "markdown",
      "source": [
        "Использовала эту тетрадку: https://github.com/hse-ds/iad-intro-ds/blob/master/2021/seminars/sem10_texts.ipynb "
      ],
      "metadata": {
        "id": "0tJpa-BoeaBQ"
      }
    },
    {
      "cell_type": "code",
      "source": [
        "!pip install nltk"
      ],
      "metadata": {
        "colab": {
          "base_uri": "https://localhost:8080/"
        },
        "id": "qnM5E-rtb-ZF",
        "outputId": "4c0eaf7b-3454-4f84-f635-faad76cb42f4"
      },
      "execution_count": 109,
      "outputs": [
        {
          "output_type": "stream",
          "name": "stdout",
          "text": [
            "Looking in indexes: https://pypi.org/simple, https://us-python.pkg.dev/colab-wheels/public/simple/\n",
            "Requirement already satisfied: nltk in /usr/local/lib/python3.7/dist-packages (3.2.5)\n",
            "Requirement already satisfied: six in /usr/local/lib/python3.7/dist-packages (from nltk) (1.15.0)\n"
          ]
        }
      ]
    },
    {
      "cell_type": "code",
      "source": [
        "import nltk\n",
        "nltk.download(\"stopwords\")\n",
        "from string import punctuation\n",
        "from nltk.stem.snowball import SnowballStemmer\n",
        "import re\n",
        "from nltk.tokenize import word_tokenize\n",
        "from nltk.corpus import stopwords\n",
        "nltk.download('punkt')"
      ],
      "metadata": {
        "colab": {
          "base_uri": "https://localhost:8080/"
        },
        "id": "ZOKHDGDHb_s5",
        "outputId": "99c03fc9-9b0f-46ad-b467-d35477e2c0f7"
      },
      "execution_count": 123,
      "outputs": [
        {
          "output_type": "stream",
          "name": "stdout",
          "text": [
            "[nltk_data] Downloading package stopwords to /root/nltk_data...\n",
            "[nltk_data]   Package stopwords is already up-to-date!\n",
            "[nltk_data] Downloading package punkt to /root/nltk_data...\n",
            "[nltk_data]   Unzipping tokenizers/punkt.zip.\n"
          ]
        },
        {
          "output_type": "execute_result",
          "data": {
            "text/plain": [
              "True"
            ]
          },
          "metadata": {},
          "execution_count": 123
        }
      ]
    },
    {
      "cell_type": "markdown",
      "source": [
        "Взяла функцию из своего ДЗ6 по введению в анализ данных"
      ],
      "metadata": {
        "id": "RrGhna5ahW30"
      }
    },
    {
      "cell_type": "code",
      "source": [
        "def Customtokenizer(s):\n",
        "    s = s.lower()\n",
        "    h = word_tokenize(s)\n",
        "    deli_lst = stopwords.words('english')\n",
        "    d = []\n",
        "    stemmer = SnowballStemmer('english')\n",
        "    for i in h:\n",
        "        if (i not in deli_lst) and (re.findall(r'[0-9]+', i) == []) and \\\n",
        "        (re.findall(r'[!\"\\$%&\\'()*+,\\-.\\—/:;=#@?\\\\\\\\^_`«»{|}~]+', i) == []) and \\\n",
        "        (']' not in i) and \\\n",
        "        ('[' not in i): \n",
        "            j = stemmer.stem(i)\n",
        "            d.append(j)\n",
        "    return d "
      ],
      "metadata": {
        "id": "A5dCjTQ3eJ05"
      },
      "execution_count": 124,
      "outputs": []
    },
    {
      "cell_type": "code",
      "source": [
        "vector2 = TfidfVectorizer(analyzer='word', tokenizer=Customtokenizer)\n",
        "feat2 = vector2.fit_transform(articles_df['text'])"
      ],
      "metadata": {
        "id": "8OZUDnkmf9RP"
      },
      "execution_count": 125,
      "outputs": []
    },
    {
      "cell_type": "code",
      "source": [
        "model3 = LightFM(loss='warp', random_state=111)\n",
        "model3.fit(interactions=train_matrix, sample_weight=train_matrix_weights, item_features=feat2, epochs=30)"
      ],
      "metadata": {
        "colab": {
          "base_uri": "https://localhost:8080/"
        },
        "id": "TowfVZlzdd13",
        "outputId": "b9a07568-5040-4531-d2f0-3e0e21622f7b"
      },
      "execution_count": 126,
      "outputs": [
        {
          "output_type": "execute_result",
          "data": {
            "text/plain": [
              "<lightfm.lightfm.LightFM at 0x7f7447da2210>"
            ]
          },
          "metadata": {},
          "execution_count": 126
        }
      ]
    },
    {
      "cell_type": "code",
      "source": [
        "print(f\"Train precision@10: {precision_at_k(model3, k=10, test_interactions=train_matrix, item_features=feat2).mean()}\")\n",
        "print(f\"Test precision@10: {precision_at_k(model3,k=10,test_interactions=test_matrix, item_features=feat2).mean()}\")"
      ],
      "metadata": {
        "colab": {
          "base_uri": "https://localhost:8080/"
        },
        "id": "ngxpQL36dd40",
        "outputId": "63fdc1b6-ec75-4347-b508-41402cca997f"
      },
      "execution_count": 127,
      "outputs": [
        {
          "output_type": "stream",
          "name": "stdout",
          "text": [
            "Train precision@10: 0.23255395889282227\n",
            "Test precision@10: 0.0047861505299806595\n"
          ]
        }
      ]
    },
    {
      "cell_type": "markdown",
      "metadata": {
        "id": "VgayAPRpqn7L"
      },
      "source": [
        "Улучшилось ли качество предсказания?"
      ]
    },
    {
      "cell_type": "markdown",
      "source": [
        "Незначительно, вообще даже немного упало\n"
      ],
      "metadata": {
        "id": "Px9julAOht6D"
      }
    },
    {
      "cell_type": "markdown",
      "metadata": {
        "id": "XKRzLLodq3gq"
      },
      "source": [
        "## Задание 5 (2 балла)"
      ]
    },
    {
      "cell_type": "markdown",
      "metadata": {
        "id": "brjHl49Aq8su"
      },
      "source": [
        "Подберите гиперпараметры модели LightFM (`n_components` и др.) для улучшения качества модели."
      ]
    },
    {
      "cell_type": "markdown",
      "source": [
        "max_sampled – максимальное количество отрицательных комбинаций при WARP fitting, увеличивая число, можно улучшить точность\n",
        "\n",
        "learning_schedule выбрали 'adagrad'\n",
        "\n",
        "learning_rate для adagrad learning schedule"
      ],
      "metadata": {
        "id": "uQqni6EUkNlz"
      }
    },
    {
      "cell_type": "code",
      "source": [
        "model4 = LightFM(loss='warp', learning_schedule='adagrad', max_sampled=20, random_state=111)\n",
        "model4.fit(interactions=train_matrix, sample_weight=train_matrix_weights, item_features=feat, epochs=30)"
      ],
      "metadata": {
        "colab": {
          "base_uri": "https://localhost:8080/"
        },
        "id": "y7C8Ory2jy7L",
        "outputId": "3319027a-2055-4b81-f356-ca9d63370735"
      },
      "execution_count": 130,
      "outputs": [
        {
          "output_type": "execute_result",
          "data": {
            "text/plain": [
              "<lightfm.lightfm.LightFM at 0x7f744780eb10>"
            ]
          },
          "metadata": {},
          "execution_count": 130
        }
      ]
    },
    {
      "cell_type": "code",
      "source": [
        "print(f\"Train precision@10: {precision_at_k(model4, k=10, test_interactions=train_matrix, item_features=feat).mean()}\")\n",
        "print(f\"Test precision@10: {precision_at_k(model4,k=10,test_interactions=test_matrix, item_features=feat).mean()}\")"
      ],
      "metadata": {
        "colab": {
          "base_uri": "https://localhost:8080/"
        },
        "id": "cy5xjXIYk8as",
        "outputId": "d9fac210-3258-420b-fd7d-d6f9d6c6f949"
      },
      "execution_count": 131,
      "outputs": [
        {
          "output_type": "stream",
          "name": "stdout",
          "text": [
            "Train precision@10: 0.2632194459438324\n",
            "Test precision@10: 0.004073319956660271\n"
          ]
        }
      ]
    },
    {
      "cell_type": "code",
      "source": [
        "model4 = LightFM(loss='warp', learning_schedule='adagrad', max_sampled=30, random_state=111)\n",
        "model4.fit(interactions=train_matrix, sample_weight=train_matrix_weights, item_features=feat, epochs=30)"
      ],
      "metadata": {
        "colab": {
          "base_uri": "https://localhost:8080/"
        },
        "id": "pPgrs2-AmTw-",
        "outputId": "f1ca9a14-a911-4cc9-fd6a-424209b14b30"
      },
      "execution_count": 132,
      "outputs": [
        {
          "output_type": "execute_result",
          "data": {
            "text/plain": [
              "<lightfm.lightfm.LightFM at 0x7f744774c990>"
            ]
          },
          "metadata": {},
          "execution_count": 132
        }
      ]
    },
    {
      "cell_type": "code",
      "source": [
        "print(f\"Train precision@10: {precision_at_k(model4, k=10, test_interactions=train_matrix, item_features=feat).mean()}\")\n",
        "print(f\"Test precision@10: {precision_at_k(model4,k=10,test_interactions=test_matrix, item_features=feat).mean()}\")"
      ],
      "metadata": {
        "colab": {
          "base_uri": "https://localhost:8080/"
        },
        "id": "4NrUn3RUmWN2",
        "outputId": "62220312-14a3-4cce-cd62-377634fb36c6"
      },
      "execution_count": 133,
      "outputs": [
        {
          "output_type": "stream",
          "name": "stdout",
          "text": [
            "Train precision@10: 0.2751798629760742\n",
            "Test precision@10: 0.004073319956660271\n"
          ]
        }
      ]
    },
    {
      "cell_type": "code",
      "source": [
        "model4 = LightFM(loss='warp', learning_schedule='adagrad', max_sampled=30, learning_rate=0.1, random_state=111)\n",
        "model4.fit(interactions=train_matrix, sample_weight=train_matrix_weights, item_features=feat, epochs=30)"
      ],
      "metadata": {
        "colab": {
          "base_uri": "https://localhost:8080/"
        },
        "id": "psrQKpW6nBKJ",
        "outputId": "13016bbd-a9c8-4682-a212-1f57637bf5de"
      },
      "execution_count": 134,
      "outputs": [
        {
          "output_type": "execute_result",
          "data": {
            "text/plain": [
              "<lightfm.lightfm.LightFM at 0x7f7447da0a90>"
            ]
          },
          "metadata": {},
          "execution_count": 134
        }
      ]
    },
    {
      "cell_type": "code",
      "source": [
        "print(f\"Train precision@10: {precision_at_k(model4, k=10, test_interactions=train_matrix, item_features=feat).mean()}\")\n",
        "print(f\"Test precision@10: {precision_at_k(model4,k=10,test_interactions=test_matrix, item_features=feat).mean()}\")"
      ],
      "metadata": {
        "colab": {
          "base_uri": "https://localhost:8080/"
        },
        "id": "JvlcCFkingAp",
        "outputId": "79ab4336-cc1b-44fd-de39-36bfaeb6fb0b"
      },
      "execution_count": 135,
      "outputs": [
        {
          "output_type": "stream",
          "name": "stdout",
          "text": [
            "Train precision@10: 0.2829137146472931\n",
            "Test precision@10: 0.003971486818045378\n"
          ]
        }
      ]
    },
    {
      "cell_type": "markdown",
      "source": [
        "Качество на тесте падает, тогда как на тренировочной выборке растет, подбираем дальше"
      ],
      "metadata": {
        "id": "7xVRqiqun1O8"
      }
    },
    {
      "cell_type": "code",
      "source": [
        "model4 = LightFM(loss='warp', learning_schedule='adagrad', max_sampled=30, learning_rate=0.1, random_state=111)\n",
        "model4.fit(interactions=train_matrix, sample_weight=train_matrix_weights, item_features=feat, epochs=50)"
      ],
      "metadata": {
        "colab": {
          "base_uri": "https://localhost:8080/"
        },
        "id": "hctqvRz3n_e-",
        "outputId": "934ae3b6-9139-4e20-ecbd-522c824a9a6f"
      },
      "execution_count": 136,
      "outputs": [
        {
          "output_type": "execute_result",
          "data": {
            "text/plain": [
              "<lightfm.lightfm.LightFM at 0x7f744774c6d0>"
            ]
          },
          "metadata": {},
          "execution_count": 136
        }
      ]
    },
    {
      "cell_type": "code",
      "source": [
        "print(f\"Train precision@10: {precision_at_k(model4, k=10, test_interactions=train_matrix, item_features=feat).mean()}\")\n",
        "print(f\"Test precision@10: {precision_at_k(model4,k=10,test_interactions=test_matrix, item_features=feat).mean()}\")"
      ],
      "metadata": {
        "colab": {
          "base_uri": "https://localhost:8080/"
        },
        "id": "MZfPyVmppCJb",
        "outputId": "55454408-336d-4f48-e2ba-72ea2cec3462"
      },
      "execution_count": 137,
      "outputs": [
        {
          "output_type": "stream",
          "name": "stdout",
          "text": [
            "Train precision@10: 0.2918165326118469\n",
            "Test precision@10: 0.004073319956660271\n"
          ]
        }
      ]
    },
    {
      "cell_type": "code",
      "source": [
        "model4 = LightFM(loss='warp', learning_schedule='adagrad', max_sampled=30, learning_rate=0.1, no_components=30, random_state=111)\n",
        "model4.fit(interactions=train_matrix, sample_weight=train_matrix_weights, item_features=feat, epochs=50)"
      ],
      "metadata": {
        "colab": {
          "base_uri": "https://localhost:8080/"
        },
        "id": "y1OVtXRlpQ9C",
        "outputId": "50529a97-dcc1-4cd8-97d6-785fea584417"
      },
      "execution_count": 138,
      "outputs": [
        {
          "output_type": "execute_result",
          "data": {
            "text/plain": [
              "<lightfm.lightfm.LightFM at 0x7f744773af10>"
            ]
          },
          "metadata": {},
          "execution_count": 138
        }
      ]
    },
    {
      "cell_type": "code",
      "source": [
        "print(f\"Train precision@10: {precision_at_k(model4, k=10, test_interactions=train_matrix, item_features=feat).mean()}\")\n",
        "print(f\"Test precision@10: {precision_at_k(model4,k=10,test_interactions=test_matrix, item_features=feat).mean()}\")"
      ],
      "metadata": {
        "colab": {
          "base_uri": "https://localhost:8080/"
        },
        "id": "T_tK8knapa8y",
        "outputId": "981bd0f5-9dde-48f8-bd90-aedf8e174aed"
      },
      "execution_count": 139,
      "outputs": [
        {
          "output_type": "stream",
          "name": "stdout",
          "text": [
            "Train precision@10: 0.5876798629760742\n",
            "Test precision@10: 0.0023421586956828833\n"
          ]
        }
      ]
    },
    {
      "cell_type": "code",
      "source": [
        "model5 = LightFM(loss='warp', learning_schedule='adagrad', max_sampled=30, no_components=30, random_state=111)\n",
        "model5.fit(interactions=train_matrix, sample_weight=train_matrix_weights, item_features=feat, epochs=50)"
      ],
      "metadata": {
        "colab": {
          "base_uri": "https://localhost:8080/"
        },
        "id": "C_NPw7HRsV6K",
        "outputId": "5db04274-2a53-47b0-bbd4-1edaaa9e268d"
      },
      "execution_count": 141,
      "outputs": [
        {
          "output_type": "execute_result",
          "data": {
            "text/plain": [
              "<lightfm.lightfm.LightFM at 0x7f7447973490>"
            ]
          },
          "metadata": {},
          "execution_count": 141
        }
      ]
    },
    {
      "cell_type": "code",
      "source": [
        "print(f\"Train precision@10: {precision_at_k(model5, k=10, test_interactions=train_matrix, item_features=feat).mean()}\")\n",
        "print(f\"Test precision@10: {precision_at_k(model5,k=10,test_interactions=test_matrix, item_features=feat).mean()}\")"
      ],
      "metadata": {
        "colab": {
          "base_uri": "https://localhost:8080/"
        },
        "id": "y8CIaZsTu5_B",
        "outputId": "381c9d25-6d76-4a30-cde9-ab6ca4a6cc29"
      },
      "execution_count": 142,
      "outputs": [
        {
          "output_type": "stream",
          "name": "stdout",
          "text": [
            "Train precision@10: 0.542715847492218\n",
            "Test precision@10: 0.0016293278895318508\n"
          ]
        }
      ]
    },
    {
      "cell_type": "code",
      "source": [
        "model6 = LightFM(learning_rate=0.03, loss='warp', no_components=40)\n",
        "model6.fit(interactions=train_matrix, sample_weight=train_matrix_weights, item_features=feat, epochs=50)"
      ],
      "metadata": {
        "colab": {
          "base_uri": "https://localhost:8080/"
        },
        "id": "yvLXsqXZv4uk",
        "outputId": "24d683be-2015-41b4-d743-2f0f2c7aad75"
      },
      "execution_count": 147,
      "outputs": [
        {
          "output_type": "execute_result",
          "data": {
            "text/plain": [
              "<lightfm.lightfm.LightFM at 0x7f74478e9a10>"
            ]
          },
          "metadata": {},
          "execution_count": 147
        }
      ]
    },
    {
      "cell_type": "code",
      "source": [
        "print(f\"Train precision@10: {precision_at_k(model6, k=10, test_interactions=train_matrix, item_features=feat).mean()}\")\n",
        "print(f\"Test precision@10: {precision_at_k(model6,k=10,test_interactions=test_matrix, item_features=feat).mean()}\")"
      ],
      "metadata": {
        "colab": {
          "base_uri": "https://localhost:8080/"
        },
        "id": "zMs8-qZywNxI",
        "outputId": "c5da3d90-da69-4f64-f43c-692d44126da0"
      },
      "execution_count": 148,
      "outputs": [
        {
          "output_type": "stream",
          "name": "stdout",
          "text": [
            "Train precision@10: 0.46915462613105774\n",
            "Test precision@10: 0.003564154962077737\n"
          ]
        }
      ]
    },
    {
      "cell_type": "markdown",
      "metadata": {
        "id": "xJA7v07NrYSF"
      },
      "source": [
        "## Бонусное задание (3 балла)"
      ]
    },
    {
      "cell_type": "markdown",
      "metadata": {
        "id": "veLFUoVRrisk"
      },
      "source": [
        "Выше мы использовали достаточно простое представление текста статьи в виде TF-IDF. В этом задании Вам нужно представить текст статьи (можно вместе с заголовком) в виде эмбеддинга полученного с помощью рекуррентной сети или трансформера (можно использовать любую предобученную модель, которая Вам нравится). Обучите модель с ипользованием этих эмеддингов и сравните результаты с предыдущими."
      ]
    },
    {
      "cell_type": "code",
      "execution_count": null,
      "metadata": {
        "id": "CQmn1cb-rXU3"
      },
      "outputs": [],
      "source": [
        "# Ваш код здесь"
      ]
    }
  ],
  "metadata": {
    "colab": {
      "name": "HW4.ipynb",
      "provenance": [],
      "collapsed_sections": []
    },
    "kernelspec": {
      "display_name": "Python 3 (ipykernel)",
      "language": "python",
      "name": "python3"
    },
    "language_info": {
      "codemirror_mode": {
        "name": "ipython",
        "version": 3
      },
      "file_extension": ".py",
      "mimetype": "text/x-python",
      "name": "python",
      "nbconvert_exporter": "python",
      "pygments_lexer": "ipython3",
      "version": "3.9.10"
    }
  },
  "nbformat": 4,
  "nbformat_minor": 0
}